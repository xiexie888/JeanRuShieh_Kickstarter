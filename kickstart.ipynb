{
 "cells": [
  {
   "cell_type": "code",
   "execution_count": 3,
   "metadata": {},
   "outputs": [
    {
     "data": {
      "text/html": [
       "<div>\n",
       "<style>\n",
       "    .dataframe thead tr:only-child th {\n",
       "        text-align: right;\n",
       "    }\n",
       "\n",
       "    .dataframe thead th {\n",
       "        text-align: left;\n",
       "    }\n",
       "\n",
       "    .dataframe tbody tr th {\n",
       "        vertical-align: top;\n",
       "    }\n",
       "</style>\n",
       "<table border=\"1\" class=\"dataframe\">\n",
       "  <thead>\n",
       "    <tr style=\"text-align: right;\">\n",
       "      <th></th>\n",
       "      <th>ID</th>\n",
       "      <th>name</th>\n",
       "      <th>category</th>\n",
       "      <th>main_category</th>\n",
       "      <th>currency</th>\n",
       "      <th>deadline</th>\n",
       "      <th>goal</th>\n",
       "      <th>launched</th>\n",
       "      <th>pledged</th>\n",
       "      <th>state</th>\n",
       "      <th>backers</th>\n",
       "      <th>country</th>\n",
       "      <th>usd pledged</th>\n",
       "      <th>usd_pledged_real</th>\n",
       "      <th>usd_goal_real</th>\n",
       "    </tr>\n",
       "  </thead>\n",
       "  <tbody>\n",
       "    <tr>\n",
       "      <th>0</th>\n",
       "      <td>1000002330</td>\n",
       "      <td>The Songs of Adelaide &amp; Abullah</td>\n",
       "      <td>Poetry</td>\n",
       "      <td>Publishing</td>\n",
       "      <td>GBP</td>\n",
       "      <td>2015-10-09</td>\n",
       "      <td>1000.0</td>\n",
       "      <td>2015-08-11 12:12:28</td>\n",
       "      <td>0.0</td>\n",
       "      <td>failed</td>\n",
       "      <td>0</td>\n",
       "      <td>GB</td>\n",
       "      <td>0.0</td>\n",
       "      <td>0.0</td>\n",
       "      <td>1533.95</td>\n",
       "    </tr>\n",
       "    <tr>\n",
       "      <th>1</th>\n",
       "      <td>1000003930</td>\n",
       "      <td>Greeting From Earth: ZGAC Arts Capsule For ET</td>\n",
       "      <td>Narrative Film</td>\n",
       "      <td>Film &amp; Video</td>\n",
       "      <td>USD</td>\n",
       "      <td>2017-11-01</td>\n",
       "      <td>30000.0</td>\n",
       "      <td>2017-09-02 04:43:57</td>\n",
       "      <td>2421.0</td>\n",
       "      <td>failed</td>\n",
       "      <td>15</td>\n",
       "      <td>US</td>\n",
       "      <td>100.0</td>\n",
       "      <td>2421.0</td>\n",
       "      <td>30000.00</td>\n",
       "    </tr>\n",
       "    <tr>\n",
       "      <th>2</th>\n",
       "      <td>1000004038</td>\n",
       "      <td>Where is Hank?</td>\n",
       "      <td>Narrative Film</td>\n",
       "      <td>Film &amp; Video</td>\n",
       "      <td>USD</td>\n",
       "      <td>2013-02-26</td>\n",
       "      <td>45000.0</td>\n",
       "      <td>2013-01-12 00:20:50</td>\n",
       "      <td>220.0</td>\n",
       "      <td>failed</td>\n",
       "      <td>3</td>\n",
       "      <td>US</td>\n",
       "      <td>220.0</td>\n",
       "      <td>220.0</td>\n",
       "      <td>45000.00</td>\n",
       "    </tr>\n",
       "    <tr>\n",
       "      <th>3</th>\n",
       "      <td>1000007540</td>\n",
       "      <td>ToshiCapital Rekordz Needs Help to Complete Album</td>\n",
       "      <td>Music</td>\n",
       "      <td>Music</td>\n",
       "      <td>USD</td>\n",
       "      <td>2012-04-16</td>\n",
       "      <td>5000.0</td>\n",
       "      <td>2012-03-17 03:24:11</td>\n",
       "      <td>1.0</td>\n",
       "      <td>failed</td>\n",
       "      <td>1</td>\n",
       "      <td>US</td>\n",
       "      <td>1.0</td>\n",
       "      <td>1.0</td>\n",
       "      <td>5000.00</td>\n",
       "    </tr>\n",
       "    <tr>\n",
       "      <th>4</th>\n",
       "      <td>1000011046</td>\n",
       "      <td>Community Film Project: The Art of Neighborhoo...</td>\n",
       "      <td>Film &amp; Video</td>\n",
       "      <td>Film &amp; Video</td>\n",
       "      <td>USD</td>\n",
       "      <td>2015-08-29</td>\n",
       "      <td>19500.0</td>\n",
       "      <td>2015-07-04 08:35:03</td>\n",
       "      <td>1283.0</td>\n",
       "      <td>canceled</td>\n",
       "      <td>14</td>\n",
       "      <td>US</td>\n",
       "      <td>1283.0</td>\n",
       "      <td>1283.0</td>\n",
       "      <td>19500.00</td>\n",
       "    </tr>\n",
       "  </tbody>\n",
       "</table>\n",
       "</div>"
      ],
      "text/plain": [
       "           ID                                               name  \\\n",
       "0  1000002330                    The Songs of Adelaide & Abullah   \n",
       "1  1000003930      Greeting From Earth: ZGAC Arts Capsule For ET   \n",
       "2  1000004038                                     Where is Hank?   \n",
       "3  1000007540  ToshiCapital Rekordz Needs Help to Complete Album   \n",
       "4  1000011046  Community Film Project: The Art of Neighborhoo...   \n",
       "\n",
       "         category main_category currency   deadline     goal  \\\n",
       "0          Poetry    Publishing      GBP 2015-10-09   1000.0   \n",
       "1  Narrative Film  Film & Video      USD 2017-11-01  30000.0   \n",
       "2  Narrative Film  Film & Video      USD 2013-02-26  45000.0   \n",
       "3           Music         Music      USD 2012-04-16   5000.0   \n",
       "4    Film & Video  Film & Video      USD 2015-08-29  19500.0   \n",
       "\n",
       "             launched  pledged     state  backers country  usd pledged  \\\n",
       "0 2015-08-11 12:12:28      0.0    failed        0      GB          0.0   \n",
       "1 2017-09-02 04:43:57   2421.0    failed       15      US        100.0   \n",
       "2 2013-01-12 00:20:50    220.0    failed        3      US        220.0   \n",
       "3 2012-03-17 03:24:11      1.0    failed        1      US          1.0   \n",
       "4 2015-07-04 08:35:03   1283.0  canceled       14      US       1283.0   \n",
       "\n",
       "   usd_pledged_real  usd_goal_real  \n",
       "0               0.0        1533.95  \n",
       "1            2421.0       30000.00  \n",
       "2             220.0       45000.00  \n",
       "3               1.0        5000.00  \n",
       "4            1283.0       19500.00  "
      ]
     },
     "execution_count": 3,
     "metadata": {},
     "output_type": "execute_result"
    }
   ],
   "source": [
    "import pandas as pd\n",
    "location = \"kickstarter.xls\"\n",
    "df = pd.read_excel (location)\n",
    "df.head()"
   ]
  },
  {
   "cell_type": "code",
   "execution_count": 4,
   "metadata": {},
   "outputs": [
    {
     "data": {
      "text/plain": [
       "ID                           int64\n",
       "name                        object\n",
       "category                    object\n",
       "main_category               object\n",
       "currency                    object\n",
       "deadline            datetime64[ns]\n",
       "goal                       float64\n",
       "launched            datetime64[ns]\n",
       "pledged                    float64\n",
       "state                       object\n",
       "backers                      int64\n",
       "country                     object\n",
       "usd pledged                float64\n",
       "usd_pledged_real           float64\n",
       "usd_goal_real              float64\n",
       "dtype: object"
      ]
     },
     "execution_count": 4,
     "metadata": {},
     "output_type": "execute_result"
    }
   ],
   "source": [
    "df.describe()\n",
    "df.dtypes"
   ]
  },
  {
   "cell_type": "code",
   "execution_count": 5,
   "metadata": {},
   "outputs": [],
   "source": [
    "successful_goalge5k = len(df[(df['state'] == 'successful') & (df['goal'] >= 5000)])\n",
    "successful_goallt5k = len(df[(df['state'] == 'successful') & (df['goal'] < 5000)])\n",
    "successful= len(df[df['state']=='successful'])\n",
    "\n",
    "xsuccessful_goalge5k = len(df[(df['state'] != 'successful') & (df['goal'] >= 5000)])\n",
    "xsuccessful_goallt5k = len(df[(df['state'] != 'successful') & (df['goal'] < 5000)])\n",
    "xsuccessful = len(df[df['state']!='successful'])\n",
    "\n",
    "goalge5k =  len(df[df['goal']>=5000])\n",
    "goallt5k =  len(df[df['goal']<5000])\n",
    "total = len(df)"
   ]
  },
  {
   "cell_type": "code",
   "execution_count": 6,
   "metadata": {},
   "outputs": [
    {
     "data": {
      "text/plain": [
       "65535"
      ]
     },
     "execution_count": 6,
     "metadata": {},
     "output_type": "execute_result"
    }
   ],
   "source": [
    " len(df)"
   ]
  },
  {
   "cell_type": "code",
   "execution_count": 7,
   "metadata": {},
   "outputs": [],
   "source": [
    "def findBayesSuccess(p_ge5k_success,p_lt5k_success,p_success):\n",
    "    return p_ge5k_success * p_lt5k_success * p_success"
   ]
  },
  {
   "cell_type": "code",
   "execution_count": 8,
   "metadata": {},
   "outputs": [
    {
     "name": "stdout",
     "output_type": "stream",
     "text": [
      "0.08852568626577322\n"
     ]
    }
   ],
   "source": [
    "p_ge5k_success = successful_goalge5k/successful\n",
    "p_lt5k_success=successful_goallt5k/successful\n",
    "p_success=successful/total\n",
    "print (findBayesSuccess(p_ge5k_success, p_lt5k_success, p_success))"
   ]
  },
  {
   "cell_type": "code",
   "execution_count": 9,
   "metadata": {},
   "outputs": [],
   "source": [
    "def findBayesXSuccess(p_ge5k_xsuccess,p_lt5k_xsuccess,p_xsuccess):\n",
    "    return p_ge5k_xsuccess*p_lt5k_xsuccess*p_xsuccess"
   ]
  },
  {
   "cell_type": "code",
   "execution_count": 10,
   "metadata": {},
   "outputs": [
    {
     "name": "stdout",
     "output_type": "stream",
     "text": [
      "0.14685333016454472\n"
     ]
    }
   ],
   "source": [
    "p_ge5k_xsuccess = 27253/42131\n",
    "p_lt5k_xsuccess=14878/42131\n",
    "p_xsuccess=42131/65535\n",
    "print (findBayesSuccess(p_ge5k_xsuccess, p_lt5k_xsuccess, p_xsuccess))"
   ]
  },
  {
   "cell_type": "code",
   "execution_count": 11,
   "metadata": {},
   "outputs": [],
   "source": [
    "#goal >=5000 \n",
    "#prob(success)< prob(xsuccess)"
   ]
  },
  {
   "cell_type": "code",
   "execution_count": 30,
   "metadata": {},
   "outputs": [],
   "source": [
    "evenpoint=700\n",
    "\n",
    "successful_goalge5k = len(df[(df['state'] == 'successful') & (df['goal'] >= evenpoint)])\n",
    "successful_goallt5k = len(df[(df['state'] == 'successful') & (df['goal'] < evenpoint)])\n",
    "successful= len(df[df['state']=='successful'])\n",
    "\n",
    "xsuccessful_goalge5k = len(df[(df['state'] != 'successful') & (df['goal'] >= evenpoint)])\n",
    "xsuccessful_goallt5k = len(df[(df['state'] != 'successful') & (df['goal'] < evenpoint)])\n",
    "xsuccessful = len(df[df['state']!='successful'])\n",
    "\n",
    "goalge5k =  len(df[df['goal']>=evenpoint])\n",
    "goallt5k =  len(df[df['goal']<evenpoint])\n",
    "total = len(df)"
   ]
  },
  {
   "cell_type": "code",
   "execution_count": 35,
   "metadata": {},
   "outputs": [],
   "source": [
    "def findBayesSuccess2(p_ge5k_success,p_lt5k_success,p_success):\n",
    "    return p_ge5k_success*p_lt5k_success*p_success"
   ]
  },
  {
   "cell_type": "code",
   "execution_count": 36,
   "metadata": {},
   "outputs": [
    {
     "name": "stdout",
     "output_type": "stream",
     "text": [
      "0.04386615941828571\n"
     ]
    }
   ],
   "source": [
    "p_ge5k_success = successful_goalge5k/successful\n",
    "p_lt5k_success=successful_goallt5k/successful\n",
    "p_success=successful/total\n",
    "print (findBayesSuccess2(p_ge5k_success, p_lt5k_success, p_success))"
   ]
  },
  {
   "cell_type": "code",
   "execution_count": 37,
   "metadata": {},
   "outputs": [],
   "source": [
    "def findBayesxSuccess2(p_ge5k_xsuccess,p_lt5k_xsuccess,p_xsuccess):\n",
    "    return p_ge5k_xsuccess*p_lt5k_xsuccess*p_xsuccess"
   ]
  },
  {
   "cell_type": "code",
   "execution_count": 38,
   "metadata": {},
   "outputs": [
    {
     "name": "stdout",
     "output_type": "stream",
     "text": [
      "0.04534003637960741\n"
     ]
    }
   ],
   "source": [
    "p_ge5k_xsuccess = xsuccessful_goalge5k/xsuccessful\n",
    "p_lt5k_xsuccess=xsuccessful_goallt5k/xsuccessful\n",
    "p_xsuccess=xsuccessful/total\n",
    "print (findBayesxSuccess2(p_ge5k_xsuccess, p_lt5k_xsuccess, p_xsuccess))"
   ]
  },
  {
   "cell_type": "code",
   "execution_count": 28,
   "metadata": {},
   "outputs": [
    {
     "data": {
      "text/plain": [
       "8142"
      ]
     },
     "execution_count": 28,
     "metadata": {},
     "output_type": "execute_result"
    }
   ],
   "source": [
    "len(df[df['goal']<1000])"
   ]
  },
  {
   "cell_type": "code",
   "execution_count": 29,
   "metadata": {},
   "outputs": [
    {
     "data": {
      "text/html": [
       "<div>\n",
       "<style>\n",
       "    .dataframe thead tr:only-child th {\n",
       "        text-align: right;\n",
       "    }\n",
       "\n",
       "    .dataframe thead th {\n",
       "        text-align: left;\n",
       "    }\n",
       "\n",
       "    .dataframe tbody tr th {\n",
       "        vertical-align: top;\n",
       "    }\n",
       "</style>\n",
       "<table border=\"1\" class=\"dataframe\">\n",
       "  <thead>\n",
       "    <tr style=\"text-align: right;\">\n",
       "      <th></th>\n",
       "      <th>ID</th>\n",
       "      <th>name</th>\n",
       "      <th>category</th>\n",
       "      <th>main_category</th>\n",
       "      <th>currency</th>\n",
       "      <th>deadline</th>\n",
       "      <th>goal</th>\n",
       "      <th>launched</th>\n",
       "      <th>pledged</th>\n",
       "      <th>state</th>\n",
       "      <th>backers</th>\n",
       "      <th>country</th>\n",
       "      <th>usd pledged</th>\n",
       "      <th>usd_pledged_real</th>\n",
       "      <th>usd_goal_real</th>\n",
       "    </tr>\n",
       "  </thead>\n",
       "  <tbody>\n",
       "    <tr>\n",
       "      <th>0</th>\n",
       "      <td>1000002330</td>\n",
       "      <td>The Songs of Adelaide &amp; Abullah</td>\n",
       "      <td>Poetry</td>\n",
       "      <td>Publishing</td>\n",
       "      <td>GBP</td>\n",
       "      <td>2015-10-09</td>\n",
       "      <td>1000.0</td>\n",
       "      <td>2015-08-11 12:12:28</td>\n",
       "      <td>0.0</td>\n",
       "      <td>failed</td>\n",
       "      <td>0</td>\n",
       "      <td>GB</td>\n",
       "      <td>0.0</td>\n",
       "      <td>0.0</td>\n",
       "      <td>1533.95</td>\n",
       "    </tr>\n",
       "    <tr>\n",
       "      <th>1</th>\n",
       "      <td>1000003930</td>\n",
       "      <td>Greeting From Earth: ZGAC Arts Capsule For ET</td>\n",
       "      <td>Narrative Film</td>\n",
       "      <td>Film &amp; Video</td>\n",
       "      <td>USD</td>\n",
       "      <td>2017-11-01</td>\n",
       "      <td>30000.0</td>\n",
       "      <td>2017-09-02 04:43:57</td>\n",
       "      <td>2421.0</td>\n",
       "      <td>failed</td>\n",
       "      <td>15</td>\n",
       "      <td>US</td>\n",
       "      <td>100.0</td>\n",
       "      <td>2421.0</td>\n",
       "      <td>30000.00</td>\n",
       "    </tr>\n",
       "    <tr>\n",
       "      <th>2</th>\n",
       "      <td>1000004038</td>\n",
       "      <td>Where is Hank?</td>\n",
       "      <td>Narrative Film</td>\n",
       "      <td>Film &amp; Video</td>\n",
       "      <td>USD</td>\n",
       "      <td>2013-02-26</td>\n",
       "      <td>45000.0</td>\n",
       "      <td>2013-01-12 00:20:50</td>\n",
       "      <td>220.0</td>\n",
       "      <td>failed</td>\n",
       "      <td>3</td>\n",
       "      <td>US</td>\n",
       "      <td>220.0</td>\n",
       "      <td>220.0</td>\n",
       "      <td>45000.00</td>\n",
       "    </tr>\n",
       "    <tr>\n",
       "      <th>3</th>\n",
       "      <td>1000007540</td>\n",
       "      <td>ToshiCapital Rekordz Needs Help to Complete Album</td>\n",
       "      <td>Music</td>\n",
       "      <td>Music</td>\n",
       "      <td>USD</td>\n",
       "      <td>2012-04-16</td>\n",
       "      <td>5000.0</td>\n",
       "      <td>2012-03-17 03:24:11</td>\n",
       "      <td>1.0</td>\n",
       "      <td>failed</td>\n",
       "      <td>1</td>\n",
       "      <td>US</td>\n",
       "      <td>1.0</td>\n",
       "      <td>1.0</td>\n",
       "      <td>5000.00</td>\n",
       "    </tr>\n",
       "    <tr>\n",
       "      <th>4</th>\n",
       "      <td>1000011046</td>\n",
       "      <td>Community Film Project: The Art of Neighborhoo...</td>\n",
       "      <td>Film &amp; Video</td>\n",
       "      <td>Film &amp; Video</td>\n",
       "      <td>USD</td>\n",
       "      <td>2015-08-29</td>\n",
       "      <td>19500.0</td>\n",
       "      <td>2015-07-04 08:35:03</td>\n",
       "      <td>1283.0</td>\n",
       "      <td>canceled</td>\n",
       "      <td>14</td>\n",
       "      <td>US</td>\n",
       "      <td>1283.0</td>\n",
       "      <td>1283.0</td>\n",
       "      <td>19500.00</td>\n",
       "    </tr>\n",
       "  </tbody>\n",
       "</table>\n",
       "</div>"
      ],
      "text/plain": [
       "           ID                                               name  \\\n",
       "0  1000002330                    The Songs of Adelaide & Abullah   \n",
       "1  1000003930      Greeting From Earth: ZGAC Arts Capsule For ET   \n",
       "2  1000004038                                     Where is Hank?   \n",
       "3  1000007540  ToshiCapital Rekordz Needs Help to Complete Album   \n",
       "4  1000011046  Community Film Project: The Art of Neighborhoo...   \n",
       "\n",
       "         category main_category currency   deadline     goal  \\\n",
       "0          Poetry    Publishing      GBP 2015-10-09   1000.0   \n",
       "1  Narrative Film  Film & Video      USD 2017-11-01  30000.0   \n",
       "2  Narrative Film  Film & Video      USD 2013-02-26  45000.0   \n",
       "3           Music         Music      USD 2012-04-16   5000.0   \n",
       "4    Film & Video  Film & Video      USD 2015-08-29  19500.0   \n",
       "\n",
       "             launched  pledged     state  backers country  usd pledged  \\\n",
       "0 2015-08-11 12:12:28      0.0    failed        0      GB          0.0   \n",
       "1 2017-09-02 04:43:57   2421.0    failed       15      US        100.0   \n",
       "2 2013-01-12 00:20:50    220.0    failed        3      US        220.0   \n",
       "3 2012-03-17 03:24:11      1.0    failed        1      US          1.0   \n",
       "4 2015-07-04 08:35:03   1283.0  canceled       14      US       1283.0   \n",
       "\n",
       "   usd_pledged_real  usd_goal_real  \n",
       "0               0.0        1533.95  \n",
       "1            2421.0       30000.00  \n",
       "2             220.0       45000.00  \n",
       "3               1.0        5000.00  \n",
       "4            1283.0       19500.00  "
      ]
     },
     "execution_count": 29,
     "metadata": {},
     "output_type": "execute_result"
    }
   ],
   "source": [
    "#2) Find the number of backers at which kickstarters become far more likely to be funded.\n",
    "#34 backers \n",
    "import pandas as pd\n",
    "location = \"kickstarter.xls\"\n",
    "df = pd.read_excel (location)\n",
    "df.head()"
   ]
  },
  {
   "cell_type": "code",
   "execution_count": 59,
   "metadata": {},
   "outputs": [],
   "source": [
    "evenpoint=33\n",
    "\n",
    "successful_backersg = len(df[(df['state'] == 'successful') & (df['backers'] >= evenpoint)])\n",
    "successful_backersl = len(df[(df['state'] == 'successful') & (df['backers'] < evenpoint)])\n",
    "successful= len(df[df['state']=='successful'])\n",
    "\n",
    "xsuccessful_backersg = len(df[(df['state'] != 'successful') & (df['backers'] >= evenpoint)])\n",
    "xsuccessful_backersl = len(df[(df['state'] != 'successful') & (df['backers'] < evenpoint)])\n",
    "xsuccessful = len(df[df['state']!='successful'])\n",
    "\n",
    "backersg =  len(df[df['backers']>=evenpoint])\n",
    "backersl =  len(df[df['backers']<evenpoint])\n",
    "total = len(df)"
   ]
  },
  {
   "cell_type": "code",
   "execution_count": 60,
   "metadata": {},
   "outputs": [],
   "source": [
    "def findBayesSuccess3(p_g_success,p_l_success,p_success):\n",
    "    return p_g_success*p_l_success*p_success"
   ]
  },
  {
   "cell_type": "code",
   "execution_count": 61,
   "metadata": {},
   "outputs": [
    {
     "name": "stdout",
     "output_type": "stream",
     "text": [
      "0.06659268414266718\n"
     ]
    }
   ],
   "source": [
    "p_g_success = successful_backersg/successful\n",
    "p_l_success=successful_backersl/successful\n",
    "p_success=successful/total\n",
    "print (findBayesSuccess3(p_g_success, p_l_success, p_success))"
   ]
  },
  {
   "cell_type": "code",
   "execution_count": 62,
   "metadata": {},
   "outputs": [],
   "source": [
    "def findBayesxSuccess3(p_g_xsuccess,p_l_xsuccess,p_xsuccess):\n",
    "    return p_g_xsuccess*p_l_xsuccess*p_xsuccess"
   ]
  },
  {
   "cell_type": "code",
   "execution_count": 63,
   "metadata": {},
   "outputs": [
    {
     "name": "stdout",
     "output_type": "stream",
     "text": [
      "0.06682119056672134\n"
     ]
    }
   ],
   "source": [
    "p_g_xsuccess = xsuccessful_backersg/xsuccessful\n",
    "p_l_xsuccess=xsuccessful_backersl/xsuccessful\n",
    "p_xsuccess=xsuccessful/total\n",
    "print (findBayesxSuccess3(p_g_xsuccess, p_l_xsuccess, p_xsuccess))"
   ]
  },
  {
   "cell_type": "code",
   "execution_count": 151,
   "metadata": {},
   "outputs": [],
   "source": [
    "evenpoint='Film & Video'\n",
    "\n",
    "successful_main_category_e = len(df[(df['state'] == 'successful') & (df['main_category'] == evenpoint)])\n",
    "successful_main_category_x = len(df[(df['state'] == 'successful') & (df['main_category'] != evenpoint)])\n",
    "successful= len(df[df['state']=='successful'])\n",
    "\n",
    "xsuccessful_main_category_e = len(df[(df['state'] != 'successful') & (df['main_category'] == evenpoint)])\n",
    "xsuccessful_main_category_x = len(df[(df['state'] != 'successful') & (df['main_category'] != evenpoint)])\n",
    "xsuccessful = len(df[df['state']!='successful'])\n",
    "\n",
    "main_category_e =  len(df[df['main_category'] ==evenpoint])\n",
    "main_category_x =  len(df[df['main_category']!=evenpoint])\n",
    "total = len(df)"
   ]
  },
  {
   "cell_type": "code",
   "execution_count": 152,
   "metadata": {},
   "outputs": [],
   "source": [
    "def findBayesSuccess4(p_e_success,p_x_success,p_success):\n",
    "    return p_e_success*p_x_success*p_success"
   ]
  },
  {
   "cell_type": "code",
   "execution_count": 153,
   "metadata": {},
   "outputs": [
    {
     "name": "stdout",
     "output_type": "stream",
     "text": [
      "0.05146324070721068\n"
     ]
    }
   ],
   "source": [
    "p_e_success = successful_main_category_e/successful\n",
    "p_x_success=successful_main_category_x/successful\n",
    "p_success=successful/total\n",
    "print (findBayesSuccess4(p_e_success, p_x_success, p_success))"
   ]
  },
  {
   "cell_type": "code",
   "execution_count": 154,
   "metadata": {},
   "outputs": [],
   "source": [
    "def findBayesxSuccess4(p_e_xsuccess,p_x_xsuccess,p_xsuccess):\n",
    "    return p_e_xsuccess*p_x_xsuccess*p_xsuccess"
   ]
  },
  {
   "cell_type": "code",
   "execution_count": 150,
   "metadata": {},
   "outputs": [
    {
     "name": "stdout",
     "output_type": "stream",
     "text": [
      "0.04499069601141261\n"
     ]
    }
   ],
   "source": [
    "p_e_xsuccess = xsuccessful_main_category_e/xsuccessful\n",
    "p_x_xsuccess=xsuccessful_main_category_x/xsuccessful\n",
    "p_xsuccess=xsuccessful/total\n",
    "print (findBayesxSuccess4(p_e_xsuccess, p_x_xsuccess, p_xsuccess))"
   ]
  },
  {
   "cell_type": "code",
   "execution_count": 124,
   "metadata": {},
   "outputs": [
    {
     "data": {
      "text/plain": [
       "0          Publishing\n",
       "1        Film & Video\n",
       "2        Film & Video\n",
       "3               Music\n",
       "4        Film & Video\n",
       "5                Food\n",
       "6                Food\n",
       "7                Food\n",
       "8              Design\n",
       "9        Film & Video\n",
       "10         Publishing\n",
       "11              Music\n",
       "12             Crafts\n",
       "13              Games\n",
       "14              Games\n",
       "15             Design\n",
       "16             Comics\n",
       "17         Publishing\n",
       "18              Music\n",
       "19               Food\n",
       "20            Fashion\n",
       "21            Fashion\n",
       "22            Theater\n",
       "23               Food\n",
       "24             Comics\n",
       "25              Music\n",
       "26             Crafts\n",
       "27       Film & Video\n",
       "28             Comics\n",
       "29       Film & Video\n",
       "             ...     \n",
       "65505           Dance\n",
       "65506           Games\n",
       "65507      Publishing\n",
       "65508          Comics\n",
       "65509          Design\n",
       "65510           Music\n",
       "65511          Design\n",
       "65512         Fashion\n",
       "65513            Food\n",
       "65514            Food\n",
       "65515           Music\n",
       "65516    Film & Video\n",
       "65517    Film & Video\n",
       "65518         Fashion\n",
       "65519      Publishing\n",
       "65520      Technology\n",
       "65521      Technology\n",
       "65522      Publishing\n",
       "65523            Food\n",
       "65524         Fashion\n",
       "65525             Art\n",
       "65526     Photography\n",
       "65527             Art\n",
       "65528          Design\n",
       "65529           Music\n",
       "65530      Technology\n",
       "65531    Film & Video\n",
       "65532     Photography\n",
       "65533          Comics\n",
       "65534           Games\n",
       "Name: main_category, Length: 65535, dtype: object"
      ]
     },
     "execution_count": 124,
     "metadata": {},
     "output_type": "execute_result"
    }
   ],
   "source": [
    "df['main_category']"
   ]
  },
  {
   "cell_type": "code",
   "execution_count": null,
   "metadata": {},
   "outputs": [],
   "source": []
  }
 ],
 "metadata": {
  "kernelspec": {
   "display_name": "Python 3.6",
   "language": "python",
   "name": "python36"
  },
  "language_info": {
   "codemirror_mode": {
    "name": "ipython",
    "version": 3
   },
   "file_extension": ".py",
   "mimetype": "text/x-python",
   "name": "python",
   "nbconvert_exporter": "python",
   "pygments_lexer": "ipython3",
   "version": "3.6.3"
  }
 },
 "nbformat": 4,
 "nbformat_minor": 2
}
